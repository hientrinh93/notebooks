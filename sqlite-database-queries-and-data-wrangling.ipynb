{
 "cells": [
  {
   "cell_type": "markdown",
   "id": "pleasant-proposition",
   "metadata": {
    "_cell_guid": "b1076dfc-b9ad-4769-8c92-a6c4dae69d19",
    "_uuid": "8f2839f25d086af736a60e9eeb907d3b93b6e0e5",
    "papermill": {
     "duration": 0.025578,
     "end_time": "2021-05-05T12:34:59.100081",
     "exception": false,
     "start_time": "2021-05-05T12:34:59.074503",
     "status": "completed"
    },
    "tags": []
   },
   "source": [
    "I give a try to create a SQLite database from [Recruit Restaurant Visitor Forecasting](https://www.kaggle.com/c/recruit-restaurant-visitor-forecasting/data) and manipulate data wrangling tasks:\n"
   ]
  },
  {
   "cell_type": "code",
   "execution_count": 1,
   "id": "miniature-mentor",
   "metadata": {
    "execution": {
     "iopub.execute_input": "2021-05-05T12:34:59.163860Z",
     "iopub.status.busy": "2021-05-05T12:34:59.163185Z",
     "iopub.status.idle": "2021-05-05T12:35:00.118946Z",
     "shell.execute_reply": "2021-05-05T12:35:00.119542Z"
    },
    "papermill": {
     "duration": 0.995119,
     "end_time": "2021-05-05T12:35:00.119886",
     "exception": false,
     "start_time": "2021-05-05T12:34:59.124767",
     "status": "completed"
    },
    "tags": []
   },
   "outputs": [],
   "source": [
    "# import environment\n",
    "import seaborn as sns"
   ]
  },
  {
   "cell_type": "markdown",
   "id": "popular-findings",
   "metadata": {
    "papermill": {
     "duration": 0.025258,
     "end_time": "2021-05-05T12:35:00.171046",
     "exception": false,
     "start_time": "2021-05-05T12:35:00.145788",
     "status": "completed"
    },
    "tags": []
   },
   "source": [
    "# Create a new SQLite database"
   ]
  },
  {
   "cell_type": "markdown",
   "id": "departmental-warrant",
   "metadata": {
    "papermill": {
     "duration": 0.02422,
     "end_time": "2021-05-05T12:35:00.220947",
     "exception": false,
     "start_time": "2021-05-05T12:35:00.196727",
     "status": "completed"
    },
    "tags": []
   },
   "source": [
    "SQLite automatically creates a database if the file does not exist. I create a database file and name it ___visitor_forecasting.db:___"
   ]
  },
  {
   "cell_type": "code",
   "execution_count": 2,
   "id": "female-brighton",
   "metadata": {
    "execution": {
     "iopub.execute_input": "2021-05-05T12:35:00.278427Z",
     "iopub.status.busy": "2021-05-05T12:35:00.277479Z",
     "iopub.status.idle": "2021-05-05T12:35:00.281607Z",
     "shell.execute_reply": "2021-05-05T12:35:00.281031Z"
    },
    "papermill": {
     "duration": 0.036196,
     "end_time": "2021-05-05T12:35:00.281756",
     "exception": false,
     "start_time": "2021-05-05T12:35:00.245560",
     "status": "completed"
    },
    "tags": []
   },
   "outputs": [],
   "source": [
    "import sqlite3\n",
    "con = sqlite3.connect('visitor_forecasting.db')  # create a database connection\n",
    "cur = con.cursor()  # create a cursor"
   ]
  },
  {
   "cell_type": "markdown",
   "id": "robust-intervention",
   "metadata": {
    "papermill": {
     "duration": 0.023017,
     "end_time": "2021-05-05T12:35:00.328564",
     "exception": false,
     "start_time": "2021-05-05T12:35:00.305547",
     "status": "completed"
    },
    "tags": []
   },
   "source": [
    "Load CSV data into a sqlite table using __pandas__:"
   ]
  },
  {
   "cell_type": "code",
   "execution_count": 3,
   "id": "cellular-savings",
   "metadata": {
    "execution": {
     "iopub.execute_input": "2021-05-05T12:35:00.381200Z",
     "iopub.status.busy": "2021-05-05T12:35:00.380503Z",
     "iopub.status.idle": "2021-05-05T12:35:10.922541Z",
     "shell.execute_reply": "2021-05-05T12:35:10.923131Z"
    },
    "papermill": {
     "duration": 10.570978,
     "end_time": "2021-05-05T12:35:10.923392",
     "exception": false,
     "start_time": "2021-05-05T12:35:00.352414",
     "status": "completed"
    },
    "tags": []
   },
   "outputs": [],
   "source": [
    "import pandas as pd\n",
    "air_store_info = pd.read_csv('../input/recruit-restaurant-visitor-forecasting-data/air_store_info.csv')  # load the data into Pandas \n",
    "air_store_info.to_sql('air_store_info', con, if_exists='replace', index = False)  # write to a sqlite database\n",
    "\n",
    "air_reserve = pd.read_csv('../input/recruit-restaurant-visitor-forecasting-data/air_reserve.csv')\n",
    "air_reserve.to_sql('air_reserve', con, if_exists='replace', index = False)\n",
    "\n",
    "hpg_reserve = pd.read_csv('../input/recruit-restaurant-visitor-forecasting-data/hpg_reserve.csv')\n",
    "hpg_reserve.to_sql('hpg_reserve', con, if_exists='replace', index = False)"
   ]
  },
  {
   "cell_type": "code",
   "execution_count": 4,
   "id": "comic-prisoner",
   "metadata": {
    "execution": {
     "iopub.execute_input": "2021-05-05T12:35:10.976165Z",
     "iopub.status.busy": "2021-05-05T12:35:10.975364Z",
     "iopub.status.idle": "2021-05-05T12:35:11.016959Z",
     "shell.execute_reply": "2021-05-05T12:35:11.016160Z"
    },
    "papermill": {
     "duration": 0.069655,
     "end_time": "2021-05-05T12:35:11.017129",
     "exception": false,
     "start_time": "2021-05-05T12:35:10.947474",
     "status": "completed"
    },
    "tags": []
   },
   "outputs": [
    {
     "data": {
      "text/html": [
       "<div>\n",
       "<style scoped>\n",
       "    .dataframe tbody tr th:only-of-type {\n",
       "        vertical-align: middle;\n",
       "    }\n",
       "\n",
       "    .dataframe tbody tr th {\n",
       "        vertical-align: top;\n",
       "    }\n",
       "\n",
       "    .dataframe thead th {\n",
       "        text-align: right;\n",
       "    }\n",
       "</style>\n",
       "<table border=\"1\" class=\"dataframe\">\n",
       "  <thead>\n",
       "    <tr style=\"text-align: right;\">\n",
       "      <th></th>\n",
       "      <th>air_store_id</th>\n",
       "      <th>air_genre_name</th>\n",
       "      <th>air_area_name</th>\n",
       "      <th>latitude</th>\n",
       "      <th>longitude</th>\n",
       "    </tr>\n",
       "  </thead>\n",
       "  <tbody>\n",
       "    <tr>\n",
       "      <th>0</th>\n",
       "      <td>air_0f0cdeee6c9bf3d7</td>\n",
       "      <td>Italian/French</td>\n",
       "      <td>Hyōgo-ken Kōbe-shi Kumoidōri</td>\n",
       "      <td>34.695124</td>\n",
       "      <td>135.197853</td>\n",
       "    </tr>\n",
       "    <tr>\n",
       "      <th>1</th>\n",
       "      <td>air_7cc17a324ae5c7dc</td>\n",
       "      <td>Italian/French</td>\n",
       "      <td>Hyōgo-ken Kōbe-shi Kumoidōri</td>\n",
       "      <td>34.695124</td>\n",
       "      <td>135.197853</td>\n",
       "    </tr>\n",
       "    <tr>\n",
       "      <th>2</th>\n",
       "      <td>air_fee8dcf4d619598e</td>\n",
       "      <td>Italian/French</td>\n",
       "      <td>Hyōgo-ken Kōbe-shi Kumoidōri</td>\n",
       "      <td>34.695124</td>\n",
       "      <td>135.197853</td>\n",
       "    </tr>\n",
       "    <tr>\n",
       "      <th>3</th>\n",
       "      <td>air_a17f0778617c76e2</td>\n",
       "      <td>Italian/French</td>\n",
       "      <td>Hyōgo-ken Kōbe-shi Kumoidōri</td>\n",
       "      <td>34.695124</td>\n",
       "      <td>135.197853</td>\n",
       "    </tr>\n",
       "    <tr>\n",
       "      <th>4</th>\n",
       "      <td>air_83db5aff8f50478e</td>\n",
       "      <td>Italian/French</td>\n",
       "      <td>Tōkyō-to Minato-ku Shibakōen</td>\n",
       "      <td>35.658068</td>\n",
       "      <td>139.751599</td>\n",
       "    </tr>\n",
       "    <tr>\n",
       "      <th>...</th>\n",
       "      <td>...</td>\n",
       "      <td>...</td>\n",
       "      <td>...</td>\n",
       "      <td>...</td>\n",
       "      <td>...</td>\n",
       "    </tr>\n",
       "    <tr>\n",
       "      <th>824</th>\n",
       "      <td>air_9bf595ef095572fb</td>\n",
       "      <td>International cuisine</td>\n",
       "      <td>Tōkyō-to Shibuya-ku Shibuya</td>\n",
       "      <td>35.661777</td>\n",
       "      <td>139.704051</td>\n",
       "    </tr>\n",
       "    <tr>\n",
       "      <th>825</th>\n",
       "      <td>air_764f71040a413d4d</td>\n",
       "      <td>Asian</td>\n",
       "      <td>Tōkyō-to Shibuya-ku Shibuya</td>\n",
       "      <td>35.661777</td>\n",
       "      <td>139.704051</td>\n",
       "    </tr>\n",
       "    <tr>\n",
       "      <th>826</th>\n",
       "      <td>air_10bbe8acd943d8f6</td>\n",
       "      <td>Asian</td>\n",
       "      <td>Tōkyō-to Shibuya-ku Shibuya</td>\n",
       "      <td>35.661777</td>\n",
       "      <td>139.704051</td>\n",
       "    </tr>\n",
       "    <tr>\n",
       "      <th>827</th>\n",
       "      <td>air_7514d90009613cd6</td>\n",
       "      <td>Karaoke/Party</td>\n",
       "      <td>Hokkaidō Sapporo-shi Minami 3 Jōnishi</td>\n",
       "      <td>43.055460</td>\n",
       "      <td>141.340956</td>\n",
       "    </tr>\n",
       "    <tr>\n",
       "      <th>828</th>\n",
       "      <td>air_c8fe396d6c46275d</td>\n",
       "      <td>Karaoke/Party</td>\n",
       "      <td>Hokkaidō Sapporo-shi Minami 3 Jōnishi</td>\n",
       "      <td>43.055460</td>\n",
       "      <td>141.340956</td>\n",
       "    </tr>\n",
       "  </tbody>\n",
       "</table>\n",
       "<p>829 rows × 5 columns</p>\n",
       "</div>"
      ],
      "text/plain": [
       "             air_store_id         air_genre_name  \\\n",
       "0    air_0f0cdeee6c9bf3d7         Italian/French   \n",
       "1    air_7cc17a324ae5c7dc         Italian/French   \n",
       "2    air_fee8dcf4d619598e         Italian/French   \n",
       "3    air_a17f0778617c76e2         Italian/French   \n",
       "4    air_83db5aff8f50478e         Italian/French   \n",
       "..                    ...                    ...   \n",
       "824  air_9bf595ef095572fb  International cuisine   \n",
       "825  air_764f71040a413d4d                  Asian   \n",
       "826  air_10bbe8acd943d8f6                  Asian   \n",
       "827  air_7514d90009613cd6          Karaoke/Party   \n",
       "828  air_c8fe396d6c46275d          Karaoke/Party   \n",
       "\n",
       "                             air_area_name   latitude   longitude  \n",
       "0             Hyōgo-ken Kōbe-shi Kumoidōri  34.695124  135.197853  \n",
       "1             Hyōgo-ken Kōbe-shi Kumoidōri  34.695124  135.197853  \n",
       "2             Hyōgo-ken Kōbe-shi Kumoidōri  34.695124  135.197853  \n",
       "3             Hyōgo-ken Kōbe-shi Kumoidōri  34.695124  135.197853  \n",
       "4             Tōkyō-to Minato-ku Shibakōen  35.658068  139.751599  \n",
       "..                                     ...        ...         ...  \n",
       "824            Tōkyō-to Shibuya-ku Shibuya  35.661777  139.704051  \n",
       "825            Tōkyō-to Shibuya-ku Shibuya  35.661777  139.704051  \n",
       "826            Tōkyō-to Shibuya-ku Shibuya  35.661777  139.704051  \n",
       "827  Hokkaidō Sapporo-shi Minami 3 Jōnishi  43.055460  141.340956  \n",
       "828  Hokkaidō Sapporo-shi Minami 3 Jōnishi  43.055460  141.340956  \n",
       "\n",
       "[829 rows x 5 columns]"
      ]
     },
     "execution_count": 4,
     "metadata": {},
     "output_type": "execute_result"
    }
   ],
   "source": [
    "pd.read_sql('''SELECT * FROM air_store_info''', con)"
   ]
  },
  {
   "cell_type": "code",
   "execution_count": 5,
   "id": "ecological-country",
   "metadata": {
    "execution": {
     "iopub.execute_input": "2021-05-05T12:35:11.073148Z",
     "iopub.status.busy": "2021-05-05T12:35:11.072096Z",
     "iopub.status.idle": "2021-05-05T12:35:11.397363Z",
     "shell.execute_reply": "2021-05-05T12:35:11.396570Z"
    },
    "papermill": {
     "duration": 0.354973,
     "end_time": "2021-05-05T12:35:11.397556",
     "exception": false,
     "start_time": "2021-05-05T12:35:11.042583",
     "status": "completed"
    },
    "tags": []
   },
   "outputs": [
    {
     "data": {
      "text/html": [
       "<div>\n",
       "<style scoped>\n",
       "    .dataframe tbody tr th:only-of-type {\n",
       "        vertical-align: middle;\n",
       "    }\n",
       "\n",
       "    .dataframe tbody tr th {\n",
       "        vertical-align: top;\n",
       "    }\n",
       "\n",
       "    .dataframe thead th {\n",
       "        text-align: right;\n",
       "    }\n",
       "</style>\n",
       "<table border=\"1\" class=\"dataframe\">\n",
       "  <thead>\n",
       "    <tr style=\"text-align: right;\">\n",
       "      <th></th>\n",
       "      <th>air_store_id</th>\n",
       "      <th>visit_datetime</th>\n",
       "      <th>reserve_datetime</th>\n",
       "      <th>reserve_visitors</th>\n",
       "    </tr>\n",
       "  </thead>\n",
       "  <tbody>\n",
       "    <tr>\n",
       "      <th>0</th>\n",
       "      <td>air_877f79706adbfb06</td>\n",
       "      <td>2016-01-01 19:00:00</td>\n",
       "      <td>2016-01-01 16:00:00</td>\n",
       "      <td>1</td>\n",
       "    </tr>\n",
       "    <tr>\n",
       "      <th>1</th>\n",
       "      <td>air_db4b38ebe7a7ceff</td>\n",
       "      <td>2016-01-01 19:00:00</td>\n",
       "      <td>2016-01-01 19:00:00</td>\n",
       "      <td>3</td>\n",
       "    </tr>\n",
       "    <tr>\n",
       "      <th>2</th>\n",
       "      <td>air_db4b38ebe7a7ceff</td>\n",
       "      <td>2016-01-01 19:00:00</td>\n",
       "      <td>2016-01-01 19:00:00</td>\n",
       "      <td>6</td>\n",
       "    </tr>\n",
       "    <tr>\n",
       "      <th>3</th>\n",
       "      <td>air_877f79706adbfb06</td>\n",
       "      <td>2016-01-01 20:00:00</td>\n",
       "      <td>2016-01-01 16:00:00</td>\n",
       "      <td>2</td>\n",
       "    </tr>\n",
       "    <tr>\n",
       "      <th>4</th>\n",
       "      <td>air_db80363d35f10926</td>\n",
       "      <td>2016-01-01 20:00:00</td>\n",
       "      <td>2016-01-01 01:00:00</td>\n",
       "      <td>5</td>\n",
       "    </tr>\n",
       "    <tr>\n",
       "      <th>...</th>\n",
       "      <td>...</td>\n",
       "      <td>...</td>\n",
       "      <td>...</td>\n",
       "      <td>...</td>\n",
       "    </tr>\n",
       "    <tr>\n",
       "      <th>92373</th>\n",
       "      <td>air_db4b38ebe7a7ceff</td>\n",
       "      <td>2017-05-29 18:00:00</td>\n",
       "      <td>2017-04-17 19:00:00</td>\n",
       "      <td>6</td>\n",
       "    </tr>\n",
       "    <tr>\n",
       "      <th>92374</th>\n",
       "      <td>air_1033310359ceeac1</td>\n",
       "      <td>2017-05-30 23:00:00</td>\n",
       "      <td>2017-04-19 17:00:00</td>\n",
       "      <td>8</td>\n",
       "    </tr>\n",
       "    <tr>\n",
       "      <th>92375</th>\n",
       "      <td>air_877f79706adbfb06</td>\n",
       "      <td>2017-05-31 20:00:00</td>\n",
       "      <td>2017-04-12 23:00:00</td>\n",
       "      <td>3</td>\n",
       "    </tr>\n",
       "    <tr>\n",
       "      <th>92376</th>\n",
       "      <td>air_900d755ebd2f7bbd</td>\n",
       "      <td>2017-05-31 20:00:00</td>\n",
       "      <td>2017-04-19 16:00:00</td>\n",
       "      <td>10</td>\n",
       "    </tr>\n",
       "    <tr>\n",
       "      <th>92377</th>\n",
       "      <td>air_3cad29d1a23209d2</td>\n",
       "      <td>2017-05-31 21:00:00</td>\n",
       "      <td>2017-04-22 10:00:00</td>\n",
       "      <td>3</td>\n",
       "    </tr>\n",
       "  </tbody>\n",
       "</table>\n",
       "<p>92378 rows × 4 columns</p>\n",
       "</div>"
      ],
      "text/plain": [
       "               air_store_id       visit_datetime     reserve_datetime  \\\n",
       "0      air_877f79706adbfb06  2016-01-01 19:00:00  2016-01-01 16:00:00   \n",
       "1      air_db4b38ebe7a7ceff  2016-01-01 19:00:00  2016-01-01 19:00:00   \n",
       "2      air_db4b38ebe7a7ceff  2016-01-01 19:00:00  2016-01-01 19:00:00   \n",
       "3      air_877f79706adbfb06  2016-01-01 20:00:00  2016-01-01 16:00:00   \n",
       "4      air_db80363d35f10926  2016-01-01 20:00:00  2016-01-01 01:00:00   \n",
       "...                     ...                  ...                  ...   \n",
       "92373  air_db4b38ebe7a7ceff  2017-05-29 18:00:00  2017-04-17 19:00:00   \n",
       "92374  air_1033310359ceeac1  2017-05-30 23:00:00  2017-04-19 17:00:00   \n",
       "92375  air_877f79706adbfb06  2017-05-31 20:00:00  2017-04-12 23:00:00   \n",
       "92376  air_900d755ebd2f7bbd  2017-05-31 20:00:00  2017-04-19 16:00:00   \n",
       "92377  air_3cad29d1a23209d2  2017-05-31 21:00:00  2017-04-22 10:00:00   \n",
       "\n",
       "       reserve_visitors  \n",
       "0                     1  \n",
       "1                     3  \n",
       "2                     6  \n",
       "3                     2  \n",
       "4                     5  \n",
       "...                 ...  \n",
       "92373                 6  \n",
       "92374                 8  \n",
       "92375                 3  \n",
       "92376                10  \n",
       "92377                 3  \n",
       "\n",
       "[92378 rows x 4 columns]"
      ]
     },
     "execution_count": 5,
     "metadata": {},
     "output_type": "execute_result"
    }
   ],
   "source": [
    "pd.read_sql('''SELECT * FROM air_reserve''', con)"
   ]
  },
  {
   "cell_type": "code",
   "execution_count": 6,
   "id": "further-scale",
   "metadata": {
    "execution": {
     "iopub.execute_input": "2021-05-05T12:35:11.457344Z",
     "iopub.status.busy": "2021-05-05T12:35:11.456299Z",
     "iopub.status.idle": "2021-05-05T12:35:17.702561Z",
     "shell.execute_reply": "2021-05-05T12:35:17.701908Z"
    },
    "papermill": {
     "duration": 6.278924,
     "end_time": "2021-05-05T12:35:17.702728",
     "exception": false,
     "start_time": "2021-05-05T12:35:11.423804",
     "status": "completed"
    },
    "tags": []
   },
   "outputs": [
    {
     "data": {
      "text/html": [
       "<div>\n",
       "<style scoped>\n",
       "    .dataframe tbody tr th:only-of-type {\n",
       "        vertical-align: middle;\n",
       "    }\n",
       "\n",
       "    .dataframe tbody tr th {\n",
       "        vertical-align: top;\n",
       "    }\n",
       "\n",
       "    .dataframe thead th {\n",
       "        text-align: right;\n",
       "    }\n",
       "</style>\n",
       "<table border=\"1\" class=\"dataframe\">\n",
       "  <thead>\n",
       "    <tr style=\"text-align: right;\">\n",
       "      <th></th>\n",
       "      <th>hpg_store_id</th>\n",
       "      <th>visit_datetime</th>\n",
       "      <th>reserve_datetime</th>\n",
       "      <th>reserve_visitors</th>\n",
       "    </tr>\n",
       "  </thead>\n",
       "  <tbody>\n",
       "    <tr>\n",
       "      <th>0</th>\n",
       "      <td>hpg_c63f6f42e088e50f</td>\n",
       "      <td>2016-01-01 11:00:00</td>\n",
       "      <td>2016-01-01 09:00:00</td>\n",
       "      <td>1</td>\n",
       "    </tr>\n",
       "    <tr>\n",
       "      <th>1</th>\n",
       "      <td>hpg_dac72789163a3f47</td>\n",
       "      <td>2016-01-01 13:00:00</td>\n",
       "      <td>2016-01-01 06:00:00</td>\n",
       "      <td>3</td>\n",
       "    </tr>\n",
       "    <tr>\n",
       "      <th>2</th>\n",
       "      <td>hpg_c8e24dcf51ca1eb5</td>\n",
       "      <td>2016-01-01 16:00:00</td>\n",
       "      <td>2016-01-01 14:00:00</td>\n",
       "      <td>2</td>\n",
       "    </tr>\n",
       "    <tr>\n",
       "      <th>3</th>\n",
       "      <td>hpg_24bb207e5fd49d4a</td>\n",
       "      <td>2016-01-01 17:00:00</td>\n",
       "      <td>2016-01-01 11:00:00</td>\n",
       "      <td>5</td>\n",
       "    </tr>\n",
       "    <tr>\n",
       "      <th>4</th>\n",
       "      <td>hpg_25291c542ebb3bc2</td>\n",
       "      <td>2016-01-01 17:00:00</td>\n",
       "      <td>2016-01-01 03:00:00</td>\n",
       "      <td>13</td>\n",
       "    </tr>\n",
       "    <tr>\n",
       "      <th>...</th>\n",
       "      <td>...</td>\n",
       "      <td>...</td>\n",
       "      <td>...</td>\n",
       "      <td>...</td>\n",
       "    </tr>\n",
       "    <tr>\n",
       "      <th>2000315</th>\n",
       "      <td>hpg_2b293477ea4642fb</td>\n",
       "      <td>2017-05-31 20:00:00</td>\n",
       "      <td>2017-04-19 07:00:00</td>\n",
       "      <td>2</td>\n",
       "    </tr>\n",
       "    <tr>\n",
       "      <th>2000316</th>\n",
       "      <td>hpg_f922aeca48ca5a29</td>\n",
       "      <td>2017-05-31 20:00:00</td>\n",
       "      <td>2017-03-19 00:00:00</td>\n",
       "      <td>3</td>\n",
       "    </tr>\n",
       "    <tr>\n",
       "      <th>2000317</th>\n",
       "      <td>hpg_e9151de687b93aa3</td>\n",
       "      <td>2017-05-31 21:00:00</td>\n",
       "      <td>2017-04-14 20:00:00</td>\n",
       "      <td>49</td>\n",
       "    </tr>\n",
       "    <tr>\n",
       "      <th>2000318</th>\n",
       "      <td>hpg_fae6c96189b4a122</td>\n",
       "      <td>2017-05-31 21:00:00</td>\n",
       "      <td>2017-04-19 17:00:00</td>\n",
       "      <td>9</td>\n",
       "    </tr>\n",
       "    <tr>\n",
       "      <th>2000319</th>\n",
       "      <td>hpg_0b70de808b55ad1e</td>\n",
       "      <td>2017-05-31 23:00:00</td>\n",
       "      <td>2017-04-21 13:00:00</td>\n",
       "      <td>6</td>\n",
       "    </tr>\n",
       "  </tbody>\n",
       "</table>\n",
       "<p>2000320 rows × 4 columns</p>\n",
       "</div>"
      ],
      "text/plain": [
       "                 hpg_store_id       visit_datetime     reserve_datetime  \\\n",
       "0        hpg_c63f6f42e088e50f  2016-01-01 11:00:00  2016-01-01 09:00:00   \n",
       "1        hpg_dac72789163a3f47  2016-01-01 13:00:00  2016-01-01 06:00:00   \n",
       "2        hpg_c8e24dcf51ca1eb5  2016-01-01 16:00:00  2016-01-01 14:00:00   \n",
       "3        hpg_24bb207e5fd49d4a  2016-01-01 17:00:00  2016-01-01 11:00:00   \n",
       "4        hpg_25291c542ebb3bc2  2016-01-01 17:00:00  2016-01-01 03:00:00   \n",
       "...                       ...                  ...                  ...   \n",
       "2000315  hpg_2b293477ea4642fb  2017-05-31 20:00:00  2017-04-19 07:00:00   \n",
       "2000316  hpg_f922aeca48ca5a29  2017-05-31 20:00:00  2017-03-19 00:00:00   \n",
       "2000317  hpg_e9151de687b93aa3  2017-05-31 21:00:00  2017-04-14 20:00:00   \n",
       "2000318  hpg_fae6c96189b4a122  2017-05-31 21:00:00  2017-04-19 17:00:00   \n",
       "2000319  hpg_0b70de808b55ad1e  2017-05-31 23:00:00  2017-04-21 13:00:00   \n",
       "\n",
       "         reserve_visitors  \n",
       "0                       1  \n",
       "1                       3  \n",
       "2                       2  \n",
       "3                       5  \n",
       "4                      13  \n",
       "...                   ...  \n",
       "2000315                 2  \n",
       "2000316                 3  \n",
       "2000317                49  \n",
       "2000318                 9  \n",
       "2000319                 6  \n",
       "\n",
       "[2000320 rows x 4 columns]"
      ]
     },
     "execution_count": 6,
     "metadata": {},
     "output_type": "execute_result"
    }
   ],
   "source": [
    "pd.read_sql('''SELECT * FROM hpg_reserve''', con)"
   ]
  },
  {
   "cell_type": "markdown",
   "id": "exposed-spotlight",
   "metadata": {
    "papermill": {
     "duration": 0.026148,
     "end_time": "2021-05-05T12:35:17.756225",
     "exception": false,
     "start_time": "2021-05-05T12:35:17.730077",
     "status": "completed"
    },
    "tags": []
   },
   "source": [
    "# Handling missing data"
   ]
  },
  {
   "cell_type": "code",
   "execution_count": 7,
   "id": "nominated-marble",
   "metadata": {
    "execution": {
     "iopub.execute_input": "2021-05-05T12:35:17.818735Z",
     "iopub.status.busy": "2021-05-05T12:35:17.817866Z",
     "iopub.status.idle": "2021-05-05T12:35:17.822569Z",
     "shell.execute_reply": "2021-05-05T12:35:17.821658Z"
    },
    "papermill": {
     "duration": 0.039794,
     "end_time": "2021-05-05T12:35:17.822796",
     "exception": false,
     "start_time": "2021-05-05T12:35:17.783002",
     "status": "completed"
    },
    "tags": []
   },
   "outputs": [
    {
     "name": "stdout",
     "output_type": "stream",
     "text": [
      "The number of missing values per column in air_store_info:\n",
      " air_store_id      0\n",
      "air_genre_name    0\n",
      "air_area_name     0\n",
      "latitude          0\n",
      "longitude         0\n",
      "dtype: int64\n"
     ]
    }
   ],
   "source": [
    "# how many missing values per column\n",
    "missing_values_count = air_store_info.isnull().sum()\n",
    "print('The number of missing values per column in air_store_info:\\n', missing_values_count)"
   ]
  },
  {
   "cell_type": "code",
   "execution_count": 8,
   "id": "detailed-benchmark",
   "metadata": {
    "execution": {
     "iopub.execute_input": "2021-05-05T12:35:17.911501Z",
     "iopub.status.busy": "2021-05-05T12:35:17.910405Z",
     "iopub.status.idle": "2021-05-05T12:35:17.918806Z",
     "shell.execute_reply": "2021-05-05T12:35:17.919368Z"
    },
    "papermill": {
     "duration": 0.06896,
     "end_time": "2021-05-05T12:35:17.919551",
     "exception": false,
     "start_time": "2021-05-05T12:35:17.850591",
     "status": "completed"
    },
    "tags": []
   },
   "outputs": [
    {
     "name": "stdout",
     "output_type": "stream",
     "text": [
      "The number of missing values per column in air_reserve:\n",
      " air_store_id        0\n",
      "visit_datetime      0\n",
      "reserve_datetime    0\n",
      "reserve_visitors    0\n",
      "dtype: int64\n"
     ]
    }
   ],
   "source": [
    "# how many missing values per column\n",
    "missing_values_count = air_reserve.isnull().sum()\n",
    "print('The number of missing values per column in air_reserve:\\n', missing_values_count)"
   ]
  },
  {
   "cell_type": "code",
   "execution_count": 9,
   "id": "generic-overview",
   "metadata": {
    "execution": {
     "iopub.execute_input": "2021-05-05T12:35:18.569189Z",
     "iopub.status.busy": "2021-05-05T12:35:17.979696Z",
     "iopub.status.idle": "2021-05-05T12:35:18.589911Z",
     "shell.execute_reply": "2021-05-05T12:35:18.590504Z"
    },
    "papermill": {
     "duration": 0.643588,
     "end_time": "2021-05-05T12:35:18.590724",
     "exception": false,
     "start_time": "2021-05-05T12:35:17.947136",
     "status": "completed"
    },
    "tags": []
   },
   "outputs": [
    {
     "name": "stdout",
     "output_type": "stream",
     "text": [
      "The number of missing values per column in hpg_reserve:\n",
      " hpg_store_id        0\n",
      "visit_datetime      0\n",
      "reserve_datetime    0\n",
      "reserve_visitors    0\n",
      "dtype: int64\n"
     ]
    }
   ],
   "source": [
    "# how many missing values per column\n",
    "missing_values_count = hpg_reserve.isnull().sum()\n",
    "print('The number of missing values per column in hpg_reserve:\\n', missing_values_count)"
   ]
  },
  {
   "cell_type": "markdown",
   "id": "thirty-monster",
   "metadata": {
    "papermill": {
     "duration": 0.027954,
     "end_time": "2021-05-05T12:35:18.645876",
     "exception": false,
     "start_time": "2021-05-05T12:35:18.617922",
     "status": "completed"
    },
    "tags": []
   },
   "source": [
    "# Checking data type for each column"
   ]
  },
  {
   "cell_type": "code",
   "execution_count": 10,
   "id": "hundred-operator",
   "metadata": {
    "execution": {
     "iopub.execute_input": "2021-05-05T12:35:18.713896Z",
     "iopub.status.busy": "2021-05-05T12:35:18.710153Z",
     "iopub.status.idle": "2021-05-05T12:35:18.718129Z",
     "shell.execute_reply": "2021-05-05T12:35:18.717495Z"
    },
    "papermill": {
     "duration": 0.044415,
     "end_time": "2021-05-05T12:35:18.718302",
     "exception": false,
     "start_time": "2021-05-05T12:35:18.673887",
     "status": "completed"
    },
    "tags": []
   },
   "outputs": [
    {
     "data": {
      "text/html": [
       "<div>\n",
       "<style scoped>\n",
       "    .dataframe tbody tr th:only-of-type {\n",
       "        vertical-align: middle;\n",
       "    }\n",
       "\n",
       "    .dataframe tbody tr th {\n",
       "        vertical-align: top;\n",
       "    }\n",
       "\n",
       "    .dataframe thead th {\n",
       "        text-align: right;\n",
       "    }\n",
       "</style>\n",
       "<table border=\"1\" class=\"dataframe\">\n",
       "  <thead>\n",
       "    <tr style=\"text-align: right;\">\n",
       "      <th></th>\n",
       "      <th>air_store_id</th>\n",
       "      <th>visit_datetime</th>\n",
       "      <th>reserve_datetime</th>\n",
       "      <th>reserve_visitors</th>\n",
       "    </tr>\n",
       "  </thead>\n",
       "  <tbody>\n",
       "    <tr>\n",
       "      <th>0</th>\n",
       "      <td>air_877f79706adbfb06</td>\n",
       "      <td>2016-01-01 19:00:00</td>\n",
       "      <td>2016-01-01 16:00:00</td>\n",
       "      <td>1</td>\n",
       "    </tr>\n",
       "    <tr>\n",
       "      <th>1</th>\n",
       "      <td>air_db4b38ebe7a7ceff</td>\n",
       "      <td>2016-01-01 19:00:00</td>\n",
       "      <td>2016-01-01 19:00:00</td>\n",
       "      <td>3</td>\n",
       "    </tr>\n",
       "    <tr>\n",
       "      <th>2</th>\n",
       "      <td>air_db4b38ebe7a7ceff</td>\n",
       "      <td>2016-01-01 19:00:00</td>\n",
       "      <td>2016-01-01 19:00:00</td>\n",
       "      <td>6</td>\n",
       "    </tr>\n",
       "    <tr>\n",
       "      <th>3</th>\n",
       "      <td>air_877f79706adbfb06</td>\n",
       "      <td>2016-01-01 20:00:00</td>\n",
       "      <td>2016-01-01 16:00:00</td>\n",
       "      <td>2</td>\n",
       "    </tr>\n",
       "    <tr>\n",
       "      <th>4</th>\n",
       "      <td>air_db80363d35f10926</td>\n",
       "      <td>2016-01-01 20:00:00</td>\n",
       "      <td>2016-01-01 01:00:00</td>\n",
       "      <td>5</td>\n",
       "    </tr>\n",
       "  </tbody>\n",
       "</table>\n",
       "</div>"
      ],
      "text/plain": [
       "           air_store_id       visit_datetime     reserve_datetime  \\\n",
       "0  air_877f79706adbfb06  2016-01-01 19:00:00  2016-01-01 16:00:00   \n",
       "1  air_db4b38ebe7a7ceff  2016-01-01 19:00:00  2016-01-01 19:00:00   \n",
       "2  air_db4b38ebe7a7ceff  2016-01-01 19:00:00  2016-01-01 19:00:00   \n",
       "3  air_877f79706adbfb06  2016-01-01 20:00:00  2016-01-01 16:00:00   \n",
       "4  air_db80363d35f10926  2016-01-01 20:00:00  2016-01-01 01:00:00   \n",
       "\n",
       "   reserve_visitors  \n",
       "0                 1  \n",
       "1                 3  \n",
       "2                 6  \n",
       "3                 2  \n",
       "4                 5  "
      ]
     },
     "execution_count": 10,
     "metadata": {},
     "output_type": "execute_result"
    }
   ],
   "source": [
    "air_reserve.head()"
   ]
  },
  {
   "cell_type": "code",
   "execution_count": 11,
   "id": "mighty-sunday",
   "metadata": {
    "execution": {
     "iopub.execute_input": "2021-05-05T12:35:18.782855Z",
     "iopub.status.busy": "2021-05-05T12:35:18.781702Z",
     "iopub.status.idle": "2021-05-05T12:35:18.784981Z",
     "shell.execute_reply": "2021-05-05T12:35:18.785525Z"
    },
    "papermill": {
     "duration": 0.037487,
     "end_time": "2021-05-05T12:35:18.785711",
     "exception": false,
     "start_time": "2021-05-05T12:35:18.748224",
     "status": "completed"
    },
    "tags": []
   },
   "outputs": [
    {
     "data": {
      "text/plain": [
       "air_store_id        object\n",
       "visit_datetime      object\n",
       "reserve_datetime    object\n",
       "reserve_visitors     int64\n",
       "dtype: object"
      ]
     },
     "execution_count": 11,
     "metadata": {},
     "output_type": "execute_result"
    }
   ],
   "source": [
    "air_reserve.dtypes"
   ]
  },
  {
   "cell_type": "code",
   "execution_count": 12,
   "id": "aggressive-optimization",
   "metadata": {
    "execution": {
     "iopub.execute_input": "2021-05-05T12:35:18.847189Z",
     "iopub.status.busy": "2021-05-05T12:35:18.846510Z",
     "iopub.status.idle": "2021-05-05T12:35:18.857859Z",
     "shell.execute_reply": "2021-05-05T12:35:18.857331Z"
    },
    "papermill": {
     "duration": 0.042877,
     "end_time": "2021-05-05T12:35:18.858016",
     "exception": false,
     "start_time": "2021-05-05T12:35:18.815139",
     "status": "completed"
    },
    "tags": []
   },
   "outputs": [
    {
     "data": {
      "text/html": [
       "<div>\n",
       "<style scoped>\n",
       "    .dataframe tbody tr th:only-of-type {\n",
       "        vertical-align: middle;\n",
       "    }\n",
       "\n",
       "    .dataframe tbody tr th {\n",
       "        vertical-align: top;\n",
       "    }\n",
       "\n",
       "    .dataframe thead th {\n",
       "        text-align: right;\n",
       "    }\n",
       "</style>\n",
       "<table border=\"1\" class=\"dataframe\">\n",
       "  <thead>\n",
       "    <tr style=\"text-align: right;\">\n",
       "      <th></th>\n",
       "      <th>hpg_store_id</th>\n",
       "      <th>visit_datetime</th>\n",
       "      <th>reserve_datetime</th>\n",
       "      <th>reserve_visitors</th>\n",
       "    </tr>\n",
       "  </thead>\n",
       "  <tbody>\n",
       "    <tr>\n",
       "      <th>0</th>\n",
       "      <td>hpg_c63f6f42e088e50f</td>\n",
       "      <td>2016-01-01 11:00:00</td>\n",
       "      <td>2016-01-01 09:00:00</td>\n",
       "      <td>1</td>\n",
       "    </tr>\n",
       "    <tr>\n",
       "      <th>1</th>\n",
       "      <td>hpg_dac72789163a3f47</td>\n",
       "      <td>2016-01-01 13:00:00</td>\n",
       "      <td>2016-01-01 06:00:00</td>\n",
       "      <td>3</td>\n",
       "    </tr>\n",
       "    <tr>\n",
       "      <th>2</th>\n",
       "      <td>hpg_c8e24dcf51ca1eb5</td>\n",
       "      <td>2016-01-01 16:00:00</td>\n",
       "      <td>2016-01-01 14:00:00</td>\n",
       "      <td>2</td>\n",
       "    </tr>\n",
       "    <tr>\n",
       "      <th>3</th>\n",
       "      <td>hpg_24bb207e5fd49d4a</td>\n",
       "      <td>2016-01-01 17:00:00</td>\n",
       "      <td>2016-01-01 11:00:00</td>\n",
       "      <td>5</td>\n",
       "    </tr>\n",
       "    <tr>\n",
       "      <th>4</th>\n",
       "      <td>hpg_25291c542ebb3bc2</td>\n",
       "      <td>2016-01-01 17:00:00</td>\n",
       "      <td>2016-01-01 03:00:00</td>\n",
       "      <td>13</td>\n",
       "    </tr>\n",
       "  </tbody>\n",
       "</table>\n",
       "</div>"
      ],
      "text/plain": [
       "           hpg_store_id       visit_datetime     reserve_datetime  \\\n",
       "0  hpg_c63f6f42e088e50f  2016-01-01 11:00:00  2016-01-01 09:00:00   \n",
       "1  hpg_dac72789163a3f47  2016-01-01 13:00:00  2016-01-01 06:00:00   \n",
       "2  hpg_c8e24dcf51ca1eb5  2016-01-01 16:00:00  2016-01-01 14:00:00   \n",
       "3  hpg_24bb207e5fd49d4a  2016-01-01 17:00:00  2016-01-01 11:00:00   \n",
       "4  hpg_25291c542ebb3bc2  2016-01-01 17:00:00  2016-01-01 03:00:00   \n",
       "\n",
       "   reserve_visitors  \n",
       "0                 1  \n",
       "1                 3  \n",
       "2                 2  \n",
       "3                 5  \n",
       "4                13  "
      ]
     },
     "execution_count": 12,
     "metadata": {},
     "output_type": "execute_result"
    }
   ],
   "source": [
    "hpg_reserve.head()"
   ]
  },
  {
   "cell_type": "code",
   "execution_count": 13,
   "id": "plain-closure",
   "metadata": {
    "execution": {
     "iopub.execute_input": "2021-05-05T12:35:18.925377Z",
     "iopub.status.busy": "2021-05-05T12:35:18.924638Z",
     "iopub.status.idle": "2021-05-05T12:35:18.927731Z",
     "shell.execute_reply": "2021-05-05T12:35:18.928389Z"
    },
    "papermill": {
     "duration": 0.040613,
     "end_time": "2021-05-05T12:35:18.928566",
     "exception": false,
     "start_time": "2021-05-05T12:35:18.887953",
     "status": "completed"
    },
    "tags": []
   },
   "outputs": [
    {
     "data": {
      "text/plain": [
       "hpg_store_id        object\n",
       "visit_datetime      object\n",
       "reserve_datetime    object\n",
       "reserve_visitors     int64\n",
       "dtype: object"
      ]
     },
     "execution_count": 13,
     "metadata": {},
     "output_type": "execute_result"
    }
   ],
   "source": [
    "hpg_reserve.dtypes"
   ]
  },
  {
   "cell_type": "code",
   "execution_count": 14,
   "id": "postal-touch",
   "metadata": {
    "execution": {
     "iopub.execute_input": "2021-05-05T12:35:18.991762Z",
     "iopub.status.busy": "2021-05-05T12:35:18.991089Z",
     "iopub.status.idle": "2021-05-05T12:35:19.003273Z",
     "shell.execute_reply": "2021-05-05T12:35:19.003831Z"
    },
    "papermill": {
     "duration": 0.045419,
     "end_time": "2021-05-05T12:35:19.004014",
     "exception": false,
     "start_time": "2021-05-05T12:35:18.958595",
     "status": "completed"
    },
    "tags": []
   },
   "outputs": [
    {
     "data": {
      "text/html": [
       "<div>\n",
       "<style scoped>\n",
       "    .dataframe tbody tr th:only-of-type {\n",
       "        vertical-align: middle;\n",
       "    }\n",
       "\n",
       "    .dataframe tbody tr th {\n",
       "        vertical-align: top;\n",
       "    }\n",
       "\n",
       "    .dataframe thead th {\n",
       "        text-align: right;\n",
       "    }\n",
       "</style>\n",
       "<table border=\"1\" class=\"dataframe\">\n",
       "  <thead>\n",
       "    <tr style=\"text-align: right;\">\n",
       "      <th></th>\n",
       "      <th>air_store_id</th>\n",
       "      <th>air_genre_name</th>\n",
       "      <th>air_area_name</th>\n",
       "      <th>latitude</th>\n",
       "      <th>longitude</th>\n",
       "    </tr>\n",
       "  </thead>\n",
       "  <tbody>\n",
       "    <tr>\n",
       "      <th>0</th>\n",
       "      <td>air_0f0cdeee6c9bf3d7</td>\n",
       "      <td>Italian/French</td>\n",
       "      <td>Hyōgo-ken Kōbe-shi Kumoidōri</td>\n",
       "      <td>34.695124</td>\n",
       "      <td>135.197853</td>\n",
       "    </tr>\n",
       "    <tr>\n",
       "      <th>1</th>\n",
       "      <td>air_7cc17a324ae5c7dc</td>\n",
       "      <td>Italian/French</td>\n",
       "      <td>Hyōgo-ken Kōbe-shi Kumoidōri</td>\n",
       "      <td>34.695124</td>\n",
       "      <td>135.197853</td>\n",
       "    </tr>\n",
       "    <tr>\n",
       "      <th>2</th>\n",
       "      <td>air_fee8dcf4d619598e</td>\n",
       "      <td>Italian/French</td>\n",
       "      <td>Hyōgo-ken Kōbe-shi Kumoidōri</td>\n",
       "      <td>34.695124</td>\n",
       "      <td>135.197853</td>\n",
       "    </tr>\n",
       "    <tr>\n",
       "      <th>3</th>\n",
       "      <td>air_a17f0778617c76e2</td>\n",
       "      <td>Italian/French</td>\n",
       "      <td>Hyōgo-ken Kōbe-shi Kumoidōri</td>\n",
       "      <td>34.695124</td>\n",
       "      <td>135.197853</td>\n",
       "    </tr>\n",
       "    <tr>\n",
       "      <th>4</th>\n",
       "      <td>air_83db5aff8f50478e</td>\n",
       "      <td>Italian/French</td>\n",
       "      <td>Tōkyō-to Minato-ku Shibakōen</td>\n",
       "      <td>35.658068</td>\n",
       "      <td>139.751599</td>\n",
       "    </tr>\n",
       "  </tbody>\n",
       "</table>\n",
       "</div>"
      ],
      "text/plain": [
       "           air_store_id  air_genre_name                 air_area_name  \\\n",
       "0  air_0f0cdeee6c9bf3d7  Italian/French  Hyōgo-ken Kōbe-shi Kumoidōri   \n",
       "1  air_7cc17a324ae5c7dc  Italian/French  Hyōgo-ken Kōbe-shi Kumoidōri   \n",
       "2  air_fee8dcf4d619598e  Italian/French  Hyōgo-ken Kōbe-shi Kumoidōri   \n",
       "3  air_a17f0778617c76e2  Italian/French  Hyōgo-ken Kōbe-shi Kumoidōri   \n",
       "4  air_83db5aff8f50478e  Italian/French  Tōkyō-to Minato-ku Shibakōen   \n",
       "\n",
       "    latitude   longitude  \n",
       "0  34.695124  135.197853  \n",
       "1  34.695124  135.197853  \n",
       "2  34.695124  135.197853  \n",
       "3  34.695124  135.197853  \n",
       "4  35.658068  139.751599  "
      ]
     },
     "execution_count": 14,
     "metadata": {},
     "output_type": "execute_result"
    }
   ],
   "source": [
    "air_store_info.head()"
   ]
  },
  {
   "cell_type": "code",
   "execution_count": 15,
   "id": "widespread-buffer",
   "metadata": {
    "execution": {
     "iopub.execute_input": "2021-05-05T12:35:19.075277Z",
     "iopub.status.busy": "2021-05-05T12:35:19.074171Z",
     "iopub.status.idle": "2021-05-05T12:35:19.078332Z",
     "shell.execute_reply": "2021-05-05T12:35:19.077690Z"
    },
    "papermill": {
     "duration": 0.039961,
     "end_time": "2021-05-05T12:35:19.078478",
     "exception": false,
     "start_time": "2021-05-05T12:35:19.038517",
     "status": "completed"
    },
    "tags": []
   },
   "outputs": [
    {
     "data": {
      "text/plain": [
       "air_store_id       object\n",
       "air_genre_name     object\n",
       "air_area_name      object\n",
       "latitude          float64\n",
       "longitude         float64\n",
       "dtype: object"
      ]
     },
     "execution_count": 15,
     "metadata": {},
     "output_type": "execute_result"
    }
   ],
   "source": [
    "air_store_info.dtypes"
   ]
  },
  {
   "cell_type": "markdown",
   "id": "described-combination",
   "metadata": {
    "papermill": {
     "duration": 0.031408,
     "end_time": "2021-05-05T12:35:19.140516",
     "exception": false,
     "start_time": "2021-05-05T12:35:19.109108",
     "status": "completed"
    },
    "tags": []
   },
   "source": [
    "# Parsing dates"
   ]
  },
  {
   "cell_type": "markdown",
   "id": "improved-tribune",
   "metadata": {
    "papermill": {
     "duration": 0.03091,
     "end_time": "2021-05-05T12:35:19.202124",
     "exception": false,
     "start_time": "2021-05-05T12:35:19.171214",
     "status": "completed"
    },
    "tags": []
   },
   "source": [
    "The [data type of datetime](http://docs.scipy.org/doc/numpy-1.12.0/reference/generated/numpy.dtype.kind.html#numpy.dtype.kind) in air_reserve and hpg_reserve columns is not M. The datetime format of air_reserve is '%Y/%m/%d %H/%M/%S'. I create a new column with the parsed datetime:"
   ]
  },
  {
   "cell_type": "code",
   "execution_count": 16,
   "id": "opponent-intro",
   "metadata": {
    "execution": {
     "iopub.execute_input": "2021-05-05T12:35:19.265951Z",
     "iopub.status.busy": "2021-05-05T12:35:19.265274Z",
     "iopub.status.idle": "2021-05-05T12:35:19.326332Z",
     "shell.execute_reply": "2021-05-05T12:35:19.325707Z"
    },
    "papermill": {
     "duration": 0.094064,
     "end_time": "2021-05-05T12:35:19.326496",
     "exception": false,
     "start_time": "2021-05-05T12:35:19.232432",
     "status": "completed"
    },
    "tags": []
   },
   "outputs": [
    {
     "data": {
      "text/plain": [
       "dtype('<M8[ns]')"
      ]
     },
     "execution_count": 16,
     "metadata": {},
     "output_type": "execute_result"
    }
   ],
   "source": [
    "# create a new column (date_parsed) with the parsed dates\n",
    "air_reserve['reserve_date_parsed'] = pd.to_datetime(air_reserve['reserve_datetime'], format=\"%Y-%m-%d %H:%M:%S\")\n",
    "air_reserve['visit_date_parsed'] = pd.to_datetime(air_reserve['visit_datetime'], format=\"%Y-%m-%d %H:%M:%S\")\n",
    "air_reserve['reserve_date_parsed'].dtypes\n",
    "air_reserve['visit_date_parsed'].dtypes"
   ]
  },
  {
   "cell_type": "code",
   "execution_count": 17,
   "id": "humanitarian-rebecca",
   "metadata": {
    "execution": {
     "iopub.execute_input": "2021-05-05T12:35:19.399631Z",
     "iopub.status.busy": "2021-05-05T12:35:19.398948Z",
     "iopub.status.idle": "2021-05-05T12:35:19.477382Z",
     "shell.execute_reply": "2021-05-05T12:35:19.477950Z"
    },
    "papermill": {
     "duration": 0.121054,
     "end_time": "2021-05-05T12:35:19.478176",
     "exception": false,
     "start_time": "2021-05-05T12:35:19.357122",
     "status": "completed"
    },
    "tags": []
   },
   "outputs": [
    {
     "data": {
      "text/plain": [
       "dtype('<M8[ns]')"
      ]
     },
     "execution_count": 17,
     "metadata": {},
     "output_type": "execute_result"
    }
   ],
   "source": [
    "# create a new column (date_parsed) with the parsed dates\n",
    "hpg_reserve['date_parsed'] = pd.to_datetime(air_reserve['visit_datetime'], format=\"%Y-%m-%d %H:%M:%S\")\n",
    "hpg_reserve['date_parsed'].dtypes"
   ]
  },
  {
   "cell_type": "code",
   "execution_count": 18,
   "id": "double-meter",
   "metadata": {
    "execution": {
     "iopub.execute_input": "2021-05-05T12:35:19.547904Z",
     "iopub.status.busy": "2021-05-05T12:35:19.547168Z",
     "iopub.status.idle": "2021-05-05T12:35:19.903108Z",
     "shell.execute_reply": "2021-05-05T12:35:19.902375Z"
    },
    "papermill": {
     "duration": 0.392668,
     "end_time": "2021-05-05T12:35:19.903284",
     "exception": false,
     "start_time": "2021-05-05T12:35:19.510616",
     "status": "completed"
    },
    "tags": []
   },
   "outputs": [
    {
     "data": {
      "text/plain": [
       "<AxesSubplot:xlabel='reserve_date_parsed', ylabel='Count'>"
      ]
     },
     "execution_count": 18,
     "metadata": {},
     "output_type": "execute_result"
    },
    {
     "data": {
      "image/png": "[encoded data removed]",
      "text/plain": [
       "<Figure size 432x288 with 1 Axes>"
      ]
     },
     "metadata": {
      "needs_background": "light"
     },
     "output_type": "display_data"
    }
   ],
   "source": [
    "#check if parsing dates is working by writing the plot of day from 1 to 31\n",
    "day_reserve = air_reserve['reserve_date_parsed'].dt.day\n",
    "day_reserve.head()\n",
    "\n",
    "#remove na's\n",
    "day_reserve = day_reserve.dropna()\n",
    "\n",
    "#plot the day of the month\n",
    "#sns.histplot(day_of_month_landslides, kde=False, bins=31)\n",
    "sns.histplot(day_reserve, bins=31)"
   ]
  },
  {
   "cell_type": "code",
   "execution_count": 19,
   "id": "coupled-celebration",
   "metadata": {
    "execution": {
     "iopub.execute_input": "2021-05-05T12:35:19.975313Z",
     "iopub.status.busy": "2021-05-05T12:35:19.974140Z",
     "iopub.status.idle": "2021-05-05T12:35:20.311740Z",
     "shell.execute_reply": "2021-05-05T12:35:20.311135Z"
    },
    "papermill": {
     "duration": 0.376125,
     "end_time": "2021-05-05T12:35:20.311889",
     "exception": false,
     "start_time": "2021-05-05T12:35:19.935764",
     "status": "completed"
    },
    "tags": []
   },
   "outputs": [
    {
     "data": {
      "text/plain": [
       "<AxesSubplot:xlabel='visit_date_parsed', ylabel='Count'>"
      ]
     },
     "execution_count": 19,
     "metadata": {},
     "output_type": "execute_result"
    },
    {
     "data": {
      "image/png": "[encoded data removed]",
      "text/plain": [
       "<Figure size 432x288 with 1 Axes>"
      ]
     },
     "metadata": {
      "needs_background": "light"
     },
     "output_type": "display_data"
    }
   ],
   "source": [
    "#check if parsing dates is working by writing the plot of day from 1 to 31\n",
    "day_visit = air_reserve['visit_date_parsed'].dt.day\n",
    "day_visit.head()\n",
    "\n",
    "#remove na's\n",
    "day_visit = day_visit.dropna()\n",
    "\n",
    "#plot the day of the month\n",
    "sns.histplot(day_visit, bins=31)"
   ]
  },
  {
   "cell_type": "code",
   "execution_count": 20,
   "id": "stable-blowing",
   "metadata": {
    "execution": {
     "iopub.execute_input": "2021-05-05T12:35:20.389158Z",
     "iopub.status.busy": "2021-05-05T12:35:20.388214Z",
     "iopub.status.idle": "2021-05-05T12:35:20.707977Z",
     "shell.execute_reply": "2021-05-05T12:35:20.707130Z"
    },
    "papermill": {
     "duration": 0.360117,
     "end_time": "2021-05-05T12:35:20.708150",
     "exception": false,
     "start_time": "2021-05-05T12:35:20.348033",
     "status": "completed"
    },
    "tags": []
   },
   "outputs": [
    {
     "data": {
      "text/plain": [
       "<AxesSubplot:xlabel='date_parsed', ylabel='Count'>"
      ]
     },
     "execution_count": 20,
     "metadata": {},
     "output_type": "execute_result"
    },
    {
     "data": {
      "image/png": "[encoded data removed]",
      "text/plain": [
       "<Figure size 432x288 with 1 Axes>"
      ]
     },
     "metadata": {
      "needs_background": "light"
     },
     "output_type": "display_data"
    }
   ],
   "source": [
    "#check if parsing dates is working by writing the plot of day from 1 to 31\n",
    "day_hpg = hpg_reserve['date_parsed'].dt.day\n",
    "day_hpg.head()\n",
    "\n",
    "#remove na's\n",
    "day_hpg = day_hpg.dropna()\n",
    "\n",
    "#plot the day of the month\n",
    "sns.histplot(day_hpg, bins=31)"
   ]
  },
  {
   "cell_type": "markdown",
   "id": "nervous-basics",
   "metadata": {
    "papermill": {
     "duration": 0.034379,
     "end_time": "2021-05-05T12:35:20.777496",
     "exception": false,
     "start_time": "2021-05-05T12:35:20.743117",
     "status": "completed"
    },
    "tags": []
   },
   "source": [
    "# Inconsistent data entry"
   ]
  },
  {
   "cell_type": "code",
   "execution_count": 21,
   "id": "electronic-horizon",
   "metadata": {
    "execution": {
     "iopub.execute_input": "2021-05-05T12:35:20.854821Z",
     "iopub.status.busy": "2021-05-05T12:35:20.852994Z",
     "iopub.status.idle": "2021-05-05T12:35:20.859900Z",
     "shell.execute_reply": "2021-05-05T12:35:20.859339Z"
    },
    "papermill": {
     "duration": 0.046919,
     "end_time": "2021-05-05T12:35:20.860046",
     "exception": false,
     "start_time": "2021-05-05T12:35:20.813127",
     "status": "completed"
    },
    "tags": []
   },
   "outputs": [
    {
     "data": {
      "text/plain": [
       "array(['Italian/French', 'Dining bar', 'Yakiniku/Korean food',\n",
       "       'Cafe/Sweets', 'Izakaya', 'Okonomiyaki/Monja/Teppanyaki',\n",
       "       'Bar/Cocktail', 'Japanese food', 'Creative cuisine', 'Other',\n",
       "       'Western food', 'International cuisine', 'Asian', 'Karaoke/Party'],\n",
       "      dtype=object)"
      ]
     },
     "execution_count": 21,
     "metadata": {},
     "output_type": "execute_result"
    }
   ],
   "source": [
    "# get all the unique values in the 'air_genre_name' column\n",
    "genre_name = air_store_info['air_genre_name'].unique()\n",
    "genre_name"
   ]
  },
  {
   "cell_type": "markdown",
   "id": "quantitative-transformation",
   "metadata": {
    "papermill": {
     "duration": 0.036091,
     "end_time": "2021-05-05T12:35:20.932524",
     "exception": false,
     "start_time": "2021-05-05T12:35:20.896433",
     "status": "completed"
    },
    "tags": []
   },
   "source": [
    "# Removing duplicates"
   ]
  },
  {
   "cell_type": "code",
   "execution_count": 22,
   "id": "extended-karaoke",
   "metadata": {
    "execution": {
     "iopub.execute_input": "2021-05-05T12:35:21.010570Z",
     "iopub.status.busy": "2021-05-05T12:35:21.009815Z",
     "iopub.status.idle": "2021-05-05T12:35:21.017427Z",
     "shell.execute_reply": "2021-05-05T12:35:21.016866Z"
    },
    "papermill": {
     "duration": 0.049627,
     "end_time": "2021-05-05T12:35:21.017587",
     "exception": false,
     "start_time": "2021-05-05T12:35:20.967960",
     "status": "completed"
    },
    "tags": []
   },
   "outputs": [
    {
     "data": {
      "text/plain": [
       "0"
      ]
     },
     "execution_count": 22,
     "metadata": {},
     "output_type": "execute_result"
    }
   ],
   "source": [
    "# Count duplicate in a dataframe\n",
    "air_store_info.duplicated().sum()"
   ]
  },
  {
   "cell_type": "code",
   "execution_count": 23,
   "id": "revised-virginia",
   "metadata": {
    "execution": {
     "iopub.execute_input": "2021-05-05T12:35:21.227450Z",
     "iopub.status.busy": "2021-05-05T12:35:21.129209Z",
     "iopub.status.idle": "2021-05-05T12:35:22.214803Z",
     "shell.execute_reply": "2021-05-05T12:35:22.215389Z"
    },
    "papermill": {
     "duration": 1.162182,
     "end_time": "2021-05-05T12:35:22.215620",
     "exception": false,
     "start_time": "2021-05-05T12:35:21.053438",
     "status": "completed"
    },
    "tags": []
   },
   "outputs": [
    {
     "data": {
      "text/plain": [
       "16258"
      ]
     },
     "execution_count": 23,
     "metadata": {},
     "output_type": "execute_result"
    }
   ],
   "source": [
    "# Count duplicate in a dataframe\n",
    "hpg_reserve.duplicated().sum()"
   ]
  },
  {
   "cell_type": "markdown",
   "id": "superb-growth",
   "metadata": {
    "papermill": {
     "duration": 0.036494,
     "end_time": "2021-05-05T12:35:22.288692",
     "exception": false,
     "start_time": "2021-05-05T12:35:22.252198",
     "status": "completed"
    },
    "tags": []
   },
   "source": [
    ".loc takes a boolean and filter data based on True and False. The first argument .duplicated() will find the rows that were identified by duplicated(). The second argument : will display all columns."
   ]
  },
  {
   "cell_type": "code",
   "execution_count": 24,
   "id": "architectural-mounting",
   "metadata": {
    "execution": {
     "iopub.execute_input": "2021-05-05T12:35:22.404364Z",
     "iopub.status.busy": "2021-05-05T12:35:22.403324Z",
     "iopub.status.idle": "2021-05-05T12:35:23.537235Z",
     "shell.execute_reply": "2021-05-05T12:35:23.537806Z"
    },
    "papermill": {
     "duration": 1.211204,
     "end_time": "2021-05-05T12:35:23.538041",
     "exception": false,
     "start_time": "2021-05-05T12:35:22.326837",
     "status": "completed"
    },
    "tags": []
   },
   "outputs": [
    {
     "data": {
      "text/html": [
       "<div>\n",
       "<style scoped>\n",
       "    .dataframe tbody tr th:only-of-type {\n",
       "        vertical-align: middle;\n",
       "    }\n",
       "\n",
       "    .dataframe tbody tr th {\n",
       "        vertical-align: top;\n",
       "    }\n",
       "\n",
       "    .dataframe thead th {\n",
       "        text-align: right;\n",
       "    }\n",
       "</style>\n",
       "<table border=\"1\" class=\"dataframe\">\n",
       "  <thead>\n",
       "    <tr style=\"text-align: right;\">\n",
       "      <th></th>\n",
       "      <th>hpg_store_id</th>\n",
       "      <th>visit_datetime</th>\n",
       "      <th>reserve_datetime</th>\n",
       "      <th>reserve_visitors</th>\n",
       "      <th>date_parsed</th>\n",
       "    </tr>\n",
       "  </thead>\n",
       "  <tbody>\n",
       "    <tr>\n",
       "      <th>62</th>\n",
       "      <td>hpg_8623b83c6b3cdcb0</td>\n",
       "      <td>2016-01-01 18:00:00</td>\n",
       "      <td>2016-01-01 00:00:00</td>\n",
       "      <td>2</td>\n",
       "      <td>2016-01-04 19:00:00</td>\n",
       "    </tr>\n",
       "    <tr>\n",
       "      <th>235</th>\n",
       "      <td>hpg_4cf98a309253a9a8</td>\n",
       "      <td>2016-01-02 17:00:00</td>\n",
       "      <td>2016-01-01 16:00:00</td>\n",
       "      <td>4</td>\n",
       "      <td>2016-01-08 19:00:00</td>\n",
       "    </tr>\n",
       "    <tr>\n",
       "      <th>478</th>\n",
       "      <td>hpg_9525b1b2e0223c17</td>\n",
       "      <td>2016-01-02 18:00:00</td>\n",
       "      <td>2016-01-01 00:00:00</td>\n",
       "      <td>4</td>\n",
       "      <td>2016-01-10 19:00:00</td>\n",
       "    </tr>\n",
       "    <tr>\n",
       "      <th>700</th>\n",
       "      <td>hpg_7ed6d304949fc602</td>\n",
       "      <td>2016-01-02 19:00:00</td>\n",
       "      <td>2016-01-01 13:00:00</td>\n",
       "      <td>11</td>\n",
       "      <td>2016-01-14 17:00:00</td>\n",
       "    </tr>\n",
       "    <tr>\n",
       "      <th>911</th>\n",
       "      <td>hpg_f6117f6d2533237f</td>\n",
       "      <td>2016-01-03 01:00:00</td>\n",
       "      <td>2016-01-02 03:00:00</td>\n",
       "      <td>2</td>\n",
       "      <td>2016-01-16 18:00:00</td>\n",
       "    </tr>\n",
       "    <tr>\n",
       "      <th>...</th>\n",
       "      <td>...</td>\n",
       "      <td>...</td>\n",
       "      <td>...</td>\n",
       "      <td>...</td>\n",
       "      <td>...</td>\n",
       "    </tr>\n",
       "    <tr>\n",
       "      <th>2000122</th>\n",
       "      <td>hpg_66834c6410150f4a</td>\n",
       "      <td>2017-05-27 21:00:00</td>\n",
       "      <td>2017-04-19 16:00:00</td>\n",
       "      <td>2</td>\n",
       "      <td>NaT</td>\n",
       "    </tr>\n",
       "    <tr>\n",
       "      <th>2000137</th>\n",
       "      <td>hpg_e405e2f229393508</td>\n",
       "      <td>2017-05-27 22:00:00</td>\n",
       "      <td>2017-03-04 21:00:00</td>\n",
       "      <td>1</td>\n",
       "      <td>NaT</td>\n",
       "    </tr>\n",
       "    <tr>\n",
       "      <th>2000171</th>\n",
       "      <td>hpg_cf196e14931fe847</td>\n",
       "      <td>2017-05-28 13:00:00</td>\n",
       "      <td>2017-03-29 12:00:00</td>\n",
       "      <td>2</td>\n",
       "      <td>NaT</td>\n",
       "    </tr>\n",
       "    <tr>\n",
       "      <th>2000190</th>\n",
       "      <td>hpg_67864bf1e472830c</td>\n",
       "      <td>2017-05-28 17:00:00</td>\n",
       "      <td>2017-04-10 10:00:00</td>\n",
       "      <td>8</td>\n",
       "      <td>NaT</td>\n",
       "    </tr>\n",
       "    <tr>\n",
       "      <th>2000204</th>\n",
       "      <td>hpg_7b08497678d0ba01</td>\n",
       "      <td>2017-05-28 18:00:00</td>\n",
       "      <td>2017-04-10 10:00:00</td>\n",
       "      <td>20</td>\n",
       "      <td>NaT</td>\n",
       "    </tr>\n",
       "  </tbody>\n",
       "</table>\n",
       "<p>16258 rows × 5 columns</p>\n",
       "</div>"
      ],
      "text/plain": [
       "                 hpg_store_id       visit_datetime     reserve_datetime  \\\n",
       "62       hpg_8623b83c6b3cdcb0  2016-01-01 18:00:00  2016-01-01 00:00:00   \n",
       "235      hpg_4cf98a309253a9a8  2016-01-02 17:00:00  2016-01-01 16:00:00   \n",
       "478      hpg_9525b1b2e0223c17  2016-01-02 18:00:00  2016-01-01 00:00:00   \n",
       "700      hpg_7ed6d304949fc602  2016-01-02 19:00:00  2016-01-01 13:00:00   \n",
       "911      hpg_f6117f6d2533237f  2016-01-03 01:00:00  2016-01-02 03:00:00   \n",
       "...                       ...                  ...                  ...   \n",
       "2000122  hpg_66834c6410150f4a  2017-05-27 21:00:00  2017-04-19 16:00:00   \n",
       "2000137  hpg_e405e2f229393508  2017-05-27 22:00:00  2017-03-04 21:00:00   \n",
       "2000171  hpg_cf196e14931fe847  2017-05-28 13:00:00  2017-03-29 12:00:00   \n",
       "2000190  hpg_67864bf1e472830c  2017-05-28 17:00:00  2017-04-10 10:00:00   \n",
       "2000204  hpg_7b08497678d0ba01  2017-05-28 18:00:00  2017-04-10 10:00:00   \n",
       "\n",
       "         reserve_visitors         date_parsed  \n",
       "62                      2 2016-01-04 19:00:00  \n",
       "235                     4 2016-01-08 19:00:00  \n",
       "478                     4 2016-01-10 19:00:00  \n",
       "700                    11 2016-01-14 17:00:00  \n",
       "911                     2 2016-01-16 18:00:00  \n",
       "...                   ...                 ...  \n",
       "2000122                 2                 NaT  \n",
       "2000137                 1                 NaT  \n",
       "2000171                 2                 NaT  \n",
       "2000190                 8                 NaT  \n",
       "2000204                20                 NaT  \n",
       "\n",
       "[16258 rows x 5 columns]"
      ]
     },
     "execution_count": 24,
     "metadata": {},
     "output_type": "execute_result"
    }
   ],
   "source": [
    "# Extract duplicate rows\n",
    "# .loc gets rows (and/or columns) with particular labels with keep='first'(default)\n",
    "hpg_reserve.loc[hpg_reserve.duplicated(), :]"
   ]
  },
  {
   "cell_type": "code",
   "execution_count": 25,
   "id": "bibliographic-policy",
   "metadata": {
    "execution": {
     "iopub.execute_input": "2021-05-05T12:35:23.752585Z",
     "iopub.status.busy": "2021-05-05T12:35:23.655688Z",
     "iopub.status.idle": "2021-05-05T12:35:24.783985Z",
     "shell.execute_reply": "2021-05-05T12:35:24.783284Z"
    },
    "papermill": {
     "duration": 1.208579,
     "end_time": "2021-05-05T12:35:24.784153",
     "exception": false,
     "start_time": "2021-05-05T12:35:23.575574",
     "status": "completed"
    },
    "tags": []
   },
   "outputs": [
    {
     "data": {
      "text/html": [
       "<div>\n",
       "<style scoped>\n",
       "    .dataframe tbody tr th:only-of-type {\n",
       "        vertical-align: middle;\n",
       "    }\n",
       "\n",
       "    .dataframe tbody tr th {\n",
       "        vertical-align: top;\n",
       "    }\n",
       "\n",
       "    .dataframe thead th {\n",
       "        text-align: right;\n",
       "    }\n",
       "</style>\n",
       "<table border=\"1\" class=\"dataframe\">\n",
       "  <thead>\n",
       "    <tr style=\"text-align: right;\">\n",
       "      <th></th>\n",
       "      <th>hpg_store_id</th>\n",
       "      <th>visit_datetime</th>\n",
       "      <th>reserve_datetime</th>\n",
       "      <th>reserve_visitors</th>\n",
       "      <th>date_parsed</th>\n",
       "    </tr>\n",
       "  </thead>\n",
       "  <tbody>\n",
       "    <tr>\n",
       "      <th>61</th>\n",
       "      <td>hpg_8623b83c6b3cdcb0</td>\n",
       "      <td>2016-01-01 18:00:00</td>\n",
       "      <td>2016-01-01 00:00:00</td>\n",
       "      <td>2</td>\n",
       "      <td>2016-01-04 19:00:00</td>\n",
       "    </tr>\n",
       "    <tr>\n",
       "      <th>234</th>\n",
       "      <td>hpg_4cf98a309253a9a8</td>\n",
       "      <td>2016-01-02 17:00:00</td>\n",
       "      <td>2016-01-01 16:00:00</td>\n",
       "      <td>4</td>\n",
       "      <td>2016-01-08 19:00:00</td>\n",
       "    </tr>\n",
       "    <tr>\n",
       "      <th>477</th>\n",
       "      <td>hpg_9525b1b2e0223c17</td>\n",
       "      <td>2016-01-02 18:00:00</td>\n",
       "      <td>2016-01-01 00:00:00</td>\n",
       "      <td>4</td>\n",
       "      <td>2016-01-10 19:00:00</td>\n",
       "    </tr>\n",
       "    <tr>\n",
       "      <th>699</th>\n",
       "      <td>hpg_7ed6d304949fc602</td>\n",
       "      <td>2016-01-02 19:00:00</td>\n",
       "      <td>2016-01-01 13:00:00</td>\n",
       "      <td>11</td>\n",
       "      <td>2016-01-14 17:00:00</td>\n",
       "    </tr>\n",
       "    <tr>\n",
       "      <th>910</th>\n",
       "      <td>hpg_f6117f6d2533237f</td>\n",
       "      <td>2016-01-03 01:00:00</td>\n",
       "      <td>2016-01-02 03:00:00</td>\n",
       "      <td>2</td>\n",
       "      <td>2016-01-16 18:00:00</td>\n",
       "    </tr>\n",
       "    <tr>\n",
       "      <th>...</th>\n",
       "      <td>...</td>\n",
       "      <td>...</td>\n",
       "      <td>...</td>\n",
       "      <td>...</td>\n",
       "      <td>...</td>\n",
       "    </tr>\n",
       "    <tr>\n",
       "      <th>2000121</th>\n",
       "      <td>hpg_66834c6410150f4a</td>\n",
       "      <td>2017-05-27 21:00:00</td>\n",
       "      <td>2017-04-19 16:00:00</td>\n",
       "      <td>2</td>\n",
       "      <td>NaT</td>\n",
       "    </tr>\n",
       "    <tr>\n",
       "      <th>2000135</th>\n",
       "      <td>hpg_e405e2f229393508</td>\n",
       "      <td>2017-05-27 22:00:00</td>\n",
       "      <td>2017-03-04 21:00:00</td>\n",
       "      <td>1</td>\n",
       "      <td>NaT</td>\n",
       "    </tr>\n",
       "    <tr>\n",
       "      <th>2000170</th>\n",
       "      <td>hpg_cf196e14931fe847</td>\n",
       "      <td>2017-05-28 13:00:00</td>\n",
       "      <td>2017-03-29 12:00:00</td>\n",
       "      <td>2</td>\n",
       "      <td>NaT</td>\n",
       "    </tr>\n",
       "    <tr>\n",
       "      <th>2000189</th>\n",
       "      <td>hpg_67864bf1e472830c</td>\n",
       "      <td>2017-05-28 17:00:00</td>\n",
       "      <td>2017-04-10 10:00:00</td>\n",
       "      <td>8</td>\n",
       "      <td>NaT</td>\n",
       "    </tr>\n",
       "    <tr>\n",
       "      <th>2000203</th>\n",
       "      <td>hpg_7b08497678d0ba01</td>\n",
       "      <td>2017-05-28 18:00:00</td>\n",
       "      <td>2017-04-10 10:00:00</td>\n",
       "      <td>20</td>\n",
       "      <td>NaT</td>\n",
       "    </tr>\n",
       "  </tbody>\n",
       "</table>\n",
       "<p>16258 rows × 5 columns</p>\n",
       "</div>"
      ],
      "text/plain": [
       "                 hpg_store_id       visit_datetime     reserve_datetime  \\\n",
       "61       hpg_8623b83c6b3cdcb0  2016-01-01 18:00:00  2016-01-01 00:00:00   \n",
       "234      hpg_4cf98a309253a9a8  2016-01-02 17:00:00  2016-01-01 16:00:00   \n",
       "477      hpg_9525b1b2e0223c17  2016-01-02 18:00:00  2016-01-01 00:00:00   \n",
       "699      hpg_7ed6d304949fc602  2016-01-02 19:00:00  2016-01-01 13:00:00   \n",
       "910      hpg_f6117f6d2533237f  2016-01-03 01:00:00  2016-01-02 03:00:00   \n",
       "...                       ...                  ...                  ...   \n",
       "2000121  hpg_66834c6410150f4a  2017-05-27 21:00:00  2017-04-19 16:00:00   \n",
       "2000135  hpg_e405e2f229393508  2017-05-27 22:00:00  2017-03-04 21:00:00   \n",
       "2000170  hpg_cf196e14931fe847  2017-05-28 13:00:00  2017-03-29 12:00:00   \n",
       "2000189  hpg_67864bf1e472830c  2017-05-28 17:00:00  2017-04-10 10:00:00   \n",
       "2000203  hpg_7b08497678d0ba01  2017-05-28 18:00:00  2017-04-10 10:00:00   \n",
       "\n",
       "         reserve_visitors         date_parsed  \n",
       "61                      2 2016-01-04 19:00:00  \n",
       "234                     4 2016-01-08 19:00:00  \n",
       "477                     4 2016-01-10 19:00:00  \n",
       "699                    11 2016-01-14 17:00:00  \n",
       "910                     2 2016-01-16 18:00:00  \n",
       "...                   ...                 ...  \n",
       "2000121                 2                 NaT  \n",
       "2000135                 1                 NaT  \n",
       "2000170                 2                 NaT  \n",
       "2000189                 8                 NaT  \n",
       "2000203                20                 NaT  \n",
       "\n",
       "[16258 rows x 5 columns]"
      ]
     },
     "execution_count": 25,
     "metadata": {},
     "output_type": "execute_result"
    }
   ],
   "source": [
    "# Determine which duplicates to mark with keep='False'\n",
    "hpg_reserve.loc[hpg_reserve.duplicated(keep='last'), :]"
   ]
  },
  {
   "cell_type": "code",
   "execution_count": 26,
   "id": "significant-conservation",
   "metadata": {
    "execution": {
     "iopub.execute_input": "2021-05-05T12:35:24.998945Z",
     "iopub.status.busy": "2021-05-05T12:35:24.902862Z",
     "iopub.status.idle": "2021-05-05T12:35:26.194783Z",
     "shell.execute_reply": "2021-05-05T12:35:26.194112Z"
    },
    "papermill": {
     "duration": 1.371522,
     "end_time": "2021-05-05T12:35:26.194941",
     "exception": false,
     "start_time": "2021-05-05T12:35:24.823419",
     "status": "completed"
    },
    "tags": []
   },
   "outputs": [],
   "source": [
    "# Remove duplicates from the original dataframe\n",
    "hpg_reserve.drop_duplicates(inplace=True)"
   ]
  },
  {
   "cell_type": "markdown",
   "id": "efficient-growing",
   "metadata": {
    "papermill": {
     "duration": 0.038239,
     "end_time": "2021-05-05T12:35:26.273118",
     "exception": false,
     "start_time": "2021-05-05T12:35:26.234879",
     "status": "completed"
    },
    "tags": []
   },
   "source": [
    "# SQLite"
   ]
  }
 ],
 "metadata": {
  "kernelspec": {
   "display_name": "Python 3",
   "language": "python",
   "name": "python3"
  },
  "language_info": {
   "codemirror_mode": {
    "name": "ipython",
    "version": 3
   },
   "file_extension": ".py",
   "mimetype": "text/x-python",
   "name": "python",
   "nbconvert_exporter": "python",
   "pygments_lexer": "ipython3",
   "version": "3.7.10"
  },
  "papermill": {
   "default_parameters": {},
   "duration": 37.887107,
   "end_time": "2021-05-05T12:35:27.425669",
   "environment_variables": {},
   "exception": null,
   "input_path": "__notebook__.ipynb",
   "output_path": "__notebook__.ipynb",
   "parameters": {},
   "start_time": "2021-05-05T12:34:49.538562",
   "version": "2.3.3"
  }
 },
 "nbformat": 4,
 "nbformat_minor": 5
}
