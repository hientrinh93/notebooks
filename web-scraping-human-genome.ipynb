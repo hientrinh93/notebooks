{
 "cells": [
  {
   "cell_type": "code",
   "execution_count": 1,
   "id": "filled-pressure",
   "metadata": {
    "execution": {
     "iopub.execute_input": "2021-05-15T16:48:46.802133Z",
     "iopub.status.busy": "2021-05-15T16:48:46.789577Z",
     "iopub.status.idle": "2021-05-15T16:48:54.076922Z",
     "shell.execute_reply": "2021-05-15T16:48:54.078030Z"
    },
    "papermill": {
     "duration": 7.300502,
     "end_time": "2021-05-15T16:48:54.078463",
     "exception": false,
     "start_time": "2021-05-15T16:48:46.777961",
     "status": "completed"
    },
    "tags": []
   },
   "outputs": [
    {
     "name": "stdout",
     "output_type": "stream",
     "text": [
      "Collecting beautifulsoup4\r\n",
      "  Downloading beautifulsoup4-4.9.3-py3-none-any.whl (115 kB)\r\n",
      "\u001b[K     |████████████████████████████████| 115 kB 4.5 MB/s \r\n",
      "\u001b[?25hCollecting soupsieve>1.2\r\n",
      "  Downloading soupsieve-2.2.1-py3-none-any.whl (33 kB)\r\n",
      "Installing collected packages: soupsieve, beautifulsoup4\r\n",
      "Successfully installed beautifulsoup4-4.9.3 soupsieve-2.2.1\r\n",
      "Note: you may need to restart the kernel to use updated packages.\n"
     ]
    }
   ],
   "source": [
    "pip install beautifulsoup4"
   ]
  },
  {
   "cell_type": "code",
   "execution_count": 2,
   "id": "married-skating",
   "metadata": {
    "execution": {
     "iopub.execute_input": "2021-05-15T16:48:54.097108Z",
     "iopub.status.busy": "2021-05-15T16:48:54.096473Z",
     "iopub.status.idle": "2021-05-15T16:49:01.046479Z",
     "shell.execute_reply": "2021-05-15T16:49:01.045956Z"
    },
    "papermill": {
     "duration": 6.962586,
     "end_time": "2021-05-15T16:49:01.046623",
     "exception": false,
     "start_time": "2021-05-15T16:48:54.084037",
     "status": "completed"
    },
    "tags": []
   },
   "outputs": [
    {
     "name": "stdout",
     "output_type": "stream",
     "text": [
      "Collecting wget\r\n",
      "  Downloading wget-3.2.zip (10 kB)\r\n",
      "Building wheels for collected packages: wget\r\n",
      "  Building wheel for wget (setup.py) ... \u001b[?25l-\b \b\\\b \bdone\r\n",
      "\u001b[?25h  Created wheel for wget: filename=wget-3.2-py3-none-any.whl size=9680 sha256=f1fd66ffdfec996cd221276b06ab84ec40c6641d5767fbc7e2c0dd73a2db359b\r\n",
      "  Stored in directory: /root/.cache/pip/wheels/a1/b6/7c/0e63e34eb06634181c63adacca38b79ff8f35c37e3c13e3c02\r\n",
      "Successfully built wget\r\n",
      "Installing collected packages: wget\r\n",
      "Successfully installed wget-3.2\r\n",
      "Note: you may need to restart the kernel to use updated packages.\n"
     ]
    }
   ],
   "source": [
    "pip install wget"
   ]
  },
  {
   "cell_type": "code",
   "execution_count": 3,
   "id": "dominant-atlanta",
   "metadata": {
    "_cell_guid": "b1076dfc-b9ad-4769-8c92-a6c4dae69d19",
    "_uuid": "8f2839f25d086af736a60e9eeb907d3b93b6e0e5",
    "execution": {
     "iopub.execute_input": "2021-05-15T16:49:01.067317Z",
     "iopub.status.busy": "2021-05-15T16:49:01.066696Z",
     "iopub.status.idle": "2021-05-15T16:49:15.727443Z",
     "shell.execute_reply": "2021-05-15T16:49:15.726412Z"
    },
    "papermill": {
     "duration": 14.674415,
     "end_time": "2021-05-15T16:49:15.727650",
     "exception": false,
     "start_time": "2021-05-15T16:49:01.053235",
     "status": "completed"
    },
    "tags": []
   },
   "outputs": [
    {
     "name": "stdout",
     "output_type": "stream",
     "text": [
      "URL: https://ftp.ncbi.nlm.nih.gov/genomes/archive/old_genbank/Eukaryotes/vertebrates_mammals/Homo_sapiens/GRCh37.p5/Primary_Assembly/assembled_chromosomes/FASTA/chr1.fa.gz\n",
      "URL: https://ftp.ncbi.nlm.nih.gov/genomes/archive/old_genbank/Eukaryotes/vertebrates_mammals/Homo_sapiens/GRCh37.p5/Primary_Assembly/assembled_chromosomes/FASTA/chr10.fa.gz\n",
      "URL: https://ftp.ncbi.nlm.nih.gov/genomes/archive/old_genbank/Eukaryotes/vertebrates_mammals/Homo_sapiens/GRCh37.p5/Primary_Assembly/assembled_chromosomes/FASTA/chr11.fa.gz\n",
      "URL: https://ftp.ncbi.nlm.nih.gov/genomes/archive/old_genbank/Eukaryotes/vertebrates_mammals/Homo_sapiens/GRCh37.p5/Primary_Assembly/assembled_chromosomes/FASTA/chr12.fa.gz\n",
      "URL: https://ftp.ncbi.nlm.nih.gov/genomes/archive/old_genbank/Eukaryotes/vertebrates_mammals/Homo_sapiens/GRCh37.p5/Primary_Assembly/assembled_chromosomes/FASTA/chr13.fa.gz\n",
      "URL: https://ftp.ncbi.nlm.nih.gov/genomes/archive/old_genbank/Eukaryotes/vertebrates_mammals/Homo_sapiens/GRCh37.p5/Primary_Assembly/assembled_chromosomes/FASTA/chr14.fa.gz\n",
      "URL: https://ftp.ncbi.nlm.nih.gov/genomes/archive/old_genbank/Eukaryotes/vertebrates_mammals/Homo_sapiens/GRCh37.p5/Primary_Assembly/assembled_chromosomes/FASTA/chr15.fa.gz\n",
      "URL: https://ftp.ncbi.nlm.nih.gov/genomes/archive/old_genbank/Eukaryotes/vertebrates_mammals/Homo_sapiens/GRCh37.p5/Primary_Assembly/assembled_chromosomes/FASTA/chr16.fa.gz\n",
      "URL: https://ftp.ncbi.nlm.nih.gov/genomes/archive/old_genbank/Eukaryotes/vertebrates_mammals/Homo_sapiens/GRCh37.p5/Primary_Assembly/assembled_chromosomes/FASTA/chr17.fa.gz\n",
      "URL: https://ftp.ncbi.nlm.nih.gov/genomes/archive/old_genbank/Eukaryotes/vertebrates_mammals/Homo_sapiens/GRCh37.p5/Primary_Assembly/assembled_chromosomes/FASTA/chr18.fa.gz\n",
      "URL: https://ftp.ncbi.nlm.nih.gov/genomes/archive/old_genbank/Eukaryotes/vertebrates_mammals/Homo_sapiens/GRCh37.p5/Primary_Assembly/assembled_chromosomes/FASTA/chr19.fa.gz\n",
      "URL: https://ftp.ncbi.nlm.nih.gov/genomes/archive/old_genbank/Eukaryotes/vertebrates_mammals/Homo_sapiens/GRCh37.p5/Primary_Assembly/assembled_chromosomes/FASTA/chr2.fa.gz\n",
      "URL: https://ftp.ncbi.nlm.nih.gov/genomes/archive/old_genbank/Eukaryotes/vertebrates_mammals/Homo_sapiens/GRCh37.p5/Primary_Assembly/assembled_chromosomes/FASTA/chr20.fa.gz\n",
      "URL: https://ftp.ncbi.nlm.nih.gov/genomes/archive/old_genbank/Eukaryotes/vertebrates_mammals/Homo_sapiens/GRCh37.p5/Primary_Assembly/assembled_chromosomes/FASTA/chr21.fa.gz\n",
      "URL: https://ftp.ncbi.nlm.nih.gov/genomes/archive/old_genbank/Eukaryotes/vertebrates_mammals/Homo_sapiens/GRCh37.p5/Primary_Assembly/assembled_chromosomes/FASTA/chr22.fa.gz\n",
      "URL: https://ftp.ncbi.nlm.nih.gov/genomes/archive/old_genbank/Eukaryotes/vertebrates_mammals/Homo_sapiens/GRCh37.p5/Primary_Assembly/assembled_chromosomes/FASTA/chr3.fa.gz\n",
      "URL: https://ftp.ncbi.nlm.nih.gov/genomes/archive/old_genbank/Eukaryotes/vertebrates_mammals/Homo_sapiens/GRCh37.p5/Primary_Assembly/assembled_chromosomes/FASTA/chr4.fa.gz\n",
      "URL: https://ftp.ncbi.nlm.nih.gov/genomes/archive/old_genbank/Eukaryotes/vertebrates_mammals/Homo_sapiens/GRCh37.p5/Primary_Assembly/assembled_chromosomes/FASTA/chr5.fa.gz\n",
      "URL: https://ftp.ncbi.nlm.nih.gov/genomes/archive/old_genbank/Eukaryotes/vertebrates_mammals/Homo_sapiens/GRCh37.p5/Primary_Assembly/assembled_chromosomes/FASTA/chr6.fa.gz\n",
      "URL: https://ftp.ncbi.nlm.nih.gov/genomes/archive/old_genbank/Eukaryotes/vertebrates_mammals/Homo_sapiens/GRCh37.p5/Primary_Assembly/assembled_chromosomes/FASTA/chr7.fa.gz\n",
      "URL: https://ftp.ncbi.nlm.nih.gov/genomes/archive/old_genbank/Eukaryotes/vertebrates_mammals/Homo_sapiens/GRCh37.p5/Primary_Assembly/assembled_chromosomes/FASTA/chr8.fa.gz\n",
      "URL: https://ftp.ncbi.nlm.nih.gov/genomes/archive/old_genbank/Eukaryotes/vertebrates_mammals/Homo_sapiens/GRCh37.p5/Primary_Assembly/assembled_chromosomes/FASTA/chr9.fa.gz\n",
      "URL: https://ftp.ncbi.nlm.nih.gov/genomes/archive/old_genbank/Eukaryotes/vertebrates_mammals/Homo_sapiens/GRCh37.p5/Primary_Assembly/assembled_chromosomes/FASTA/chrX.fa.gz\n",
      "URL: https://ftp.ncbi.nlm.nih.gov/genomes/archive/old_genbank/Eukaryotes/vertebrates_mammals/Homo_sapiens/GRCh37.p5/Primary_Assembly/assembled_chromosomes/FASTA/chrY.fa.gz\n"
     ]
    }
   ],
   "source": [
    "# An anchor is a piece of text which marks the beginning and/or the end of a hypertext link. \n",
    "# <a href=\"http://www.dr-chuck.com/page2.htm\"> Second Page</a>\n",
    "import urllib.request, urllib.parse, urllib.error\n",
    "from bs4 import BeautifulSoup\n",
    "import wget\n",
    "import re#\n",
    "import requests\n",
    "\n",
    "url = \"https://ftp.ncbi.nlm.nih.gov/genomes/archive/old_genbank/Eukaryotes/vertebrates_mammals/Homo_sapiens/GRCh37.p5/Primary_Assembly/assembled_chromosomes/FASTA/\"\n",
    "html = urllib.request.urlopen(url).read()\n",
    "soup = BeautifulSoup(html, 'html.parser')\n",
    "tags = soup.find_all('a', href=re.compile(r'.fa.gz'))  # Retrieve all of the anchor tags\n",
    "for tag in tags:\n",
    "    link = 'https://ftp.ncbi.nlm.nih.gov/genomes/archive/old_genbank/Eukaryotes/vertebrates_mammals/Homo_sapiens/GRCh37.p5/Primary_Assembly/assembled_chromosomes/FASTA/'+tag.get('href', None)\n",
    "    print('URL:', link)\n",
    "    wget.download(link)\n",
    "    #print('Contents:', tag.contents[0])\n",
    "    #print('Attrs:', tag.attrs)"
   ]
  }
 ],
 "metadata": {
  "kernelspec": {
   "display_name": "Python 3",
   "language": "python",
   "name": "python3"
  },
  "language_info": {
   "codemirror_mode": {
    "name": "ipython",
    "version": 3
   },
   "file_extension": ".py",
   "mimetype": "text/x-python",
   "name": "python",
   "nbconvert_exporter": "python",
   "pygments_lexer": "ipython3",
   "version": "3.7.10"
  },
  "papermill": {
   "default_parameters": {},
   "duration": 37.875282,
   "end_time": "2021-05-15T16:49:17.311288",
   "environment_variables": {},
   "exception": null,
   "input_path": "__notebook__.ipynb",
   "output_path": "__notebook__.ipynb",
   "parameters": {},
   "start_time": "2021-05-15T16:48:39.436006",
   "version": "2.3.3"
  }
 },
 "nbformat": 4,
 "nbformat_minor": 5
}
